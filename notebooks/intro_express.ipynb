{
 "cells": [
  {
   "cell_type": "code",
   "execution_count": null,
   "metadata": {},
   "outputs": [
    {
     "ename": "SyntaxError",
     "evalue": "invalid syntax (3478819976.py, line 7)",
     "output_type": "error",
     "traceback": [
      "\u001b[0;36m  Cell \u001b[0;32mIn[14], line 7\u001b[0;36m\u001b[0m\n\u001b[0;31m    client = AsyncHumeClient(api_key=<YOUR_API_KEY>)\u001b[0m\n\u001b[0m                                     ^\u001b[0m\n\u001b[0;31mSyntaxError\u001b[0m\u001b[0;31m:\u001b[0m invalid syntax\n"
     ]
    }
   ],
   "source": [
    "\n",
    "async def analyze_audio(filepath):\n",
    "    # Load API key from environment\n",
    "    load_dotenv()\n",
    "    HUME_API_KEY = os.getenv(\"HUME_API_KEY\")\n",
    "    \n",
    "    # Initialize client\n",
    "    client = AsyncHumeClient(api_key=HUME_API_KEY)\n",
    "    \n",
    "    # Configure the prosody model\n",
    "    config = Models(prosody=Prosody())\n",
    "    \n",
    "    # Start the job\n",
    "    job = await client.expression_measurement.batch.start_inference_job(\n",
    "        files=[filepath],\n",
    "        models=config\n",
    "    )\n",
    "    \n",
    "    # Get predictions \n",
    "    predictions = await client.expression_measurement.batch.get_job_predictions(job)\n",
    "    \n",
    "    return predictions[0]['results']['prosody']\n",
    "\n",
    "def plot_emotions(predictions):\n",
    "    # Extract emotions and scores\n",
    "    emotions = []\n",
    "    scores = []\n",
    "    \n",
    "    for prediction in predictions['predictions']:\n",
    "        for emotion in prediction['emotions']:\n",
    "            emotions.append(emotion['name'])\n",
    "            scores.append(emotion['score'])\n",
    "    \n",
    "    # Create bar plot\n",
    "    plt.figure(figsize=(12, 6))\n",
    "    sns.barplot(x=scores, y=emotions)\n",
    "    plt.title('Emotion Scores from Audio')\n",
    "    plt.xlabel('Score')\n",
    "    plt.ylabel('Emotion')\n",
    "    plt.tight_layout()\n",
    "    plt.show()"
   ]
  },
  {
   "cell_type": "code",
   "execution_count": null,
   "metadata": {},
   "outputs": [
    {
     "name": "stdout",
     "output_type": "stream",
     "text": [
      "<coroutine object AsyncBatchClient.start_inference_job at 0x715b0628e260>\n"
     ]
    },
    {
     "name": "stderr",
     "output_type": "stream",
     "text": [
      "/tmp/ipykernel_23707/1748497386.py:28: RuntimeWarning: coroutine 'AsyncBatchClient.start_inference_job' was never awaited\n",
      "  main()\n",
      "RuntimeWarning: Enable tracemalloc to get the object allocation traceback\n"
     ]
    }
   ],
   "source": [
    "import asyncio\n",
    "from hume import AsyncHumeClient\n",
    "from hume.expression_measurement.batch import Face, Models\n",
    "from dotenv import load_dotenv\n",
    "\n",
    "async def main():\n",
    "    # Initialize an authenticated client\n",
    "    load_dotenv()\n",
    "    client = AsyncHumeClient(api_key=os.getenv(\"HUME_API_KEY\"))\n",
    "\n",
    "    # Define the URL(s) of the files you would like to analyze\n",
    "    job_urls = [\"https://hume-tutorials.s3.amazonaws.com/faces.zip\"]\n",
    "\n",
    "    # Create configurations for each model you would like to use (blank = default)\n",
    "    face_config = Face()\n",
    "\n",
    "    # Create a Models object\n",
    "    models_chosen = Models(face=face_config)\n",
    "\n",
    "    # Start an inference job and print the job_id\n",
    "    job_id = await client.expression_measurement.batch.start_inference_job(\n",
    "        urls=job_urls, models=models_chosen\n",
    "    )\n",
    "    print(job_id)\n",
    "\n",
    "if __name__ == \"__main__\":\n",
    "    asyncio.run(main())\n"
   ]
  },
  {
   "cell_type": "code",
   "execution_count": 12,
   "metadata": {},
   "outputs": [
    {
     "ename": "TypeError",
     "evalue": "AsyncBatchClient.start_inference_job() got an unexpected keyword argument 'files'",
     "output_type": "error",
     "traceback": [
      "\u001b[0;31m---------------------------------------------------------------------------\u001b[0m",
      "\u001b[0;31mTypeError\u001b[0m                                 Traceback (most recent call last)",
      "Cell \u001b[0;32mIn[12], line 7\u001b[0m\n\u001b[1;32m      4\u001b[0m     plot_emotions(predictions)\n\u001b[1;32m      6\u001b[0m \u001b[38;5;66;03m# Execute in notebook\u001b[39;00m\n\u001b[0;32m----> 7\u001b[0m \u001b[38;5;28;01mawait\u001b[39;00m main()\n",
      "Cell \u001b[0;32mIn[12], line 3\u001b[0m, in \u001b[0;36mmain\u001b[0;34m()\u001b[0m\n\u001b[1;32m      2\u001b[0m \u001b[38;5;28;01masync\u001b[39;00m \u001b[38;5;28;01mdef\u001b[39;00m \u001b[38;5;21mmain\u001b[39m():\n\u001b[0;32m----> 3\u001b[0m     predictions \u001b[38;5;241m=\u001b[39m \u001b[38;5;28;01mawait\u001b[39;00m analyze_audio(\u001b[38;5;124m\"\u001b[39m\u001b[38;5;124mpath/to/your/audio.wav\u001b[39m\u001b[38;5;124m\"\u001b[39m)\n\u001b[1;32m      4\u001b[0m     plot_emotions(predictions)\n",
      "Cell \u001b[0;32mIn[11], line 13\u001b[0m, in \u001b[0;36manalyze_audio\u001b[0;34m(filepath)\u001b[0m\n\u001b[1;32m     10\u001b[0m config \u001b[38;5;241m=\u001b[39m Models(prosody\u001b[38;5;241m=\u001b[39mProsody())\n\u001b[1;32m     12\u001b[0m \u001b[38;5;66;03m# Start the job\u001b[39;00m\n\u001b[0;32m---> 13\u001b[0m job \u001b[38;5;241m=\u001b[39m \u001b[38;5;28;01mawait\u001b[39;00m \u001b[43mclient\u001b[49m\u001b[38;5;241;43m.\u001b[39;49m\u001b[43mexpression_measurement\u001b[49m\u001b[38;5;241;43m.\u001b[39;49m\u001b[43mbatch\u001b[49m\u001b[38;5;241;43m.\u001b[39;49m\u001b[43mstart_inference_job\u001b[49m\u001b[43m(\u001b[49m\n\u001b[1;32m     14\u001b[0m \u001b[43m    \u001b[49m\u001b[43mfiles\u001b[49m\u001b[38;5;241;43m=\u001b[39;49m\u001b[43m[\u001b[49m\u001b[43mfilepath\u001b[49m\u001b[43m]\u001b[49m\u001b[43m,\u001b[49m\n\u001b[1;32m     15\u001b[0m \u001b[43m    \u001b[49m\u001b[43mmodels\u001b[49m\u001b[38;5;241;43m=\u001b[39;49m\u001b[43mconfig\u001b[49m\n\u001b[1;32m     16\u001b[0m \u001b[43m\u001b[49m\u001b[43m)\u001b[49m\n\u001b[1;32m     18\u001b[0m \u001b[38;5;66;03m# Get predictions \u001b[39;00m\n\u001b[1;32m     19\u001b[0m predictions \u001b[38;5;241m=\u001b[39m \u001b[38;5;28;01mawait\u001b[39;00m client\u001b[38;5;241m.\u001b[39mexpression_measurement\u001b[38;5;241m.\u001b[39mbatch\u001b[38;5;241m.\u001b[39mget_job_predictions(job)\n",
      "\u001b[0;31mTypeError\u001b[0m: AsyncBatchClient.start_inference_job() got an unexpected keyword argument 'files'"
     ]
    }
   ],
   "source": [
    "# Run the analysis\n",
    "async def main():\n",
    "    predictions = await analyze_audio(\"path/to/your/audio.wav\")\n",
    "    plot_emotions(predictions)\n",
    "\n",
    "# Execute in notebook\n",
    "await main()"
   ]
  }
 ],
 "metadata": {
  "kernelspec": {
   "display_name": "Python 3",
   "language": "python",
   "name": "python3"
  },
  "language_info": {
   "codemirror_mode": {
    "name": "ipython",
    "version": 3
   },
   "file_extension": ".py",
   "mimetype": "text/x-python",
   "name": "python",
   "nbconvert_exporter": "python",
   "pygments_lexer": "ipython3",
   "version": "3.12.4"
  }
 },
 "nbformat": 4,
 "nbformat_minor": 4
}
