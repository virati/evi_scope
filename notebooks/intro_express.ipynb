{
 "cells": [
  {
   "cell_type": "code",
   "execution_count": null,
   "metadata": {},
   "outputs": [],
   "source": [
    "import asyncio\n",
    "from hume import AsyncHumeClient\n",
    "from hume.expression_measurement.batch import Models, Prosody\n",
    "import matplotlib.pyplot as plt\n",
    "import seaborn as sns\n",
    "from dotenv import load_dotenv\n",
    "import os"
   ]
  },
  {
   "cell_type": "code",
   "execution_count": null,
   "metadata": {},
   "outputs": [],
   "source": [
    "\n",
    "async def analyze_audio(filepath):\n",
    "    # Load API key from environment\n",
    "    load_dotenv()\n",
    "    HUME_API_KEY = os.getenv(\"HUME_API_KEY\")\n",
    "    \n",
    "    # Initialize client\n",
    "    client = AsyncHumeClient(api_key=HUME_API_KEY)\n",
    "    \n",
    "    # Configure the prosody model\n",
    "    config = Models(prosody=Prosody())\n",
    "    \n",
    "    # Start the job\n",
    "    job = await client.expression_measurement.batch.start_inference_job(\n",
    "        files=[filepath],\n",
    "        models=config\n",
    "    )\n",
    "    \n",
    "    # Get predictions \n",
    "    predictions = await client.expression_measurement.batch.get_job_predictions(job)\n",
    "    \n",
    "    return predictions[0]['results']['prosody']\n",
    "\n",
    "def plot_emotions(predictions):\n",
    "    # Extract emotions and scores\n",
    "    emotions = []\n",
    "    scores = []\n",
    "    \n",
    "    for prediction in predictions['predictions']:\n",
    "        for emotion in prediction['emotions']:\n",
    "            emotions.append(emotion['name'])\n",
    "            scores.append(emotion['score'])\n",
    "    \n",
    "    # Create bar plot\n",
    "    plt.figure(figsize=(12, 6))\n",
    "    sns.barplot(x=scores, y=emotions)\n",
    "    plt.title('Emotion Scores from Audio')\n",
    "    plt.xlabel('Score')\n",
    "    plt.ylabel('Emotion')\n",
    "    plt.tight_layout()\n",
    "    plt.show()\n",
    "\n",
    "# Run the analysis\n",
    "async def main():\n",
    "    predictions = await analyze_audio(\"path/to/your/audio.wav\")\n",
    "    plot_emotions(predictions)\n",
    "\n",
    "# Execute in notebook\n",
    "await main()"
   ]
  }
 ],
 "metadata": {
  "kernelspec": {
   "display_name": "Python 3 (ipykernel)",
   "language": "python",
   "name": "python3"
  },
  "language_info": {
   "codemirror_mode": {
    "name": "ipython",
    "version": 3
   },
   "file_extension": ".py",
   "mimetype": "text/x-python",
   "name": "python",
   "nbconvert_exporter": "python",
   "pygments_lexer": "ipython3",
   "version": "3.12.4"
  }
 },
 "nbformat": 4,
 "nbformat_minor": 4
}
